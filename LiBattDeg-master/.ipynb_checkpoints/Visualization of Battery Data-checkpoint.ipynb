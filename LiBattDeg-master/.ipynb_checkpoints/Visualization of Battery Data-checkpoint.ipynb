{
 "cells": [
  {
   "cell_type": "code",
   "execution_count": 1,
   "metadata": {},
   "outputs": [
    {
     "name": "stdout",
     "output_type": "stream",
     "text": [
      "5.9041066e-06\n",
      "4.385938e-06\n"
     ]
    }
   ],
   "source": [
    "import pandas as pd\n",
    "\n",
    "import matplotlib.pyplot as plt\n",
    "import seaborn as sns\n",
    "import os\n",
    "\n",
    "battery_dataset = pd.read_csv('./data0505.csv')\n",
    "\n",
    "# preprocessing\n",
    "\n",
    "# Assume degradation only during charging (Power > 0, SOC > 0, SOH > 0)\n",
    "battery_dataset = battery_dataset[battery_dataset[\"Power\"] > 0]\n",
    "battery_dataset = battery_dataset[battery_dataset[\"SOC\"] > 0]\n",
    "battery_dataset = battery_dataset[battery_dataset[\"SOH\"] > 0]\n",
    "\n",
    "battery_dataset[\"SEI_delta\"] = 1E-7*battery_dataset[\"SEI_delta\"]\n",
    "battery_dataset.tail()\n",
    "\n",
    "\n",
    "print(battery_dataset[\"SEI_delta\"].max())\n",
    "print(battery_dataset[\"SEI_delta\"].min())\n",
    "\n",
    "##### Export the cleaned data\n",
    "\n",
    "# battery_dataset.to_csv(\"./data0505_charging.csv\")\n",
    "\n"
   ]
  },
  {
   "cell_type": "code",
   "execution_count": null,
   "metadata": {},
   "outputs": [],
   "source": [
    "# Effect of Starting SOC on SEI Delta\n",
    "\n",
    "import matplotlib.pyplot as plt\n",
    "import seaborn as sns\n",
    "\n",
    "# Possible Power \n",
    "power_values = sorted(list(set(battery_dataset[\"Power\"])))\n",
    "\n",
    "\n",
    "sns.set_style('whitegrid')\n",
    "reds_colors = sns.color_palette('Reds', 12)\n",
    "\n",
    "fig = plt.figure(figsize=(10,10))\n",
    "\n",
    "for color_index, state_of_charge in enumerate(range(20, 80, 5)):\n",
    "    soc_ds = battery_dataset[battery_dataset[\"SOC\"] == state_of_charge]\n",
    "    plt.scatter(soc_ds[\"Power\"], 1e6*soc_ds['SEI_delta'], color = reds_colors[color_index], label = \"%s percent\"%state_of_charge)\n",
    "\n",
    "\n",
    "plt.tick_params(axis='both', which='major', labelsize=20)\n",
    "plt.xlabel(\"Normalized Power\", fontsize=24)\n",
    "plt.ylabel(\"SEI Growth / $x 10^{-6}$ nm per 2 sec\", fontsize=24)\n",
    "plt.ylim([4,6])\n",
    "\n",
    "plt.legend(bbox_to_anchor=(1.05, 1), fontsize=24, loc=2, borderaxespad=0.)\n",
    "\n",
    "plt.show()"
   ]
  },
  {
   "cell_type": "markdown",
   "metadata": {},
   "source": []
  },
  {
   "cell_type": "code",
   "execution_count": null,
   "metadata": {
    "scrolled": false
   },
   "outputs": [],
   "source": [
    "# Effect of Starting Initial SEI Thickness on SEI Delta\n",
    "\n",
    "\n",
    "sns.set_style('whitegrid')\n",
    "reds_colors = sns.color_palette('Reds', 13)\n",
    "\n",
    "\n",
    "plot_power_values = [power_values[0], power_values[3], power_values[6], power_values[-1]]\n",
    "\n",
    "# Generates scatterplot for four power values showing degradation as a function of starting state of health \n",
    "# and colors correlate with starting state of charge\n",
    "\n",
    "for pwr_index, power_value in enumerate(plot_power_values):\n",
    "    \n",
    "\n",
    "    fig = plt.figure(figsize=(10,10))\n",
    "    \n",
    "    \n",
    "    for color_index, state_of_charge in enumerate(range(20, 81, 5)):\n",
    "        \n",
    "        soc_ds = battery_dataset[battery_dataset[\"SOC\"] == state_of_charge]\n",
    "        pwr_ds = soc_ds[soc_ds[\"Power\"] == power_value]\n",
    "        plt.scatter(pwr_ds[\"SOH\"], 1e6*pwr_ds['SEI_delta'], color = reds_colors[color_index], label = \"%s percent\"%state_of_charge)\n",
    "\n",
    "    plt.title(\"%f Power\"%power_value, fontsize=24)\n",
    "\n",
    "    plt.tick_params(axis='both', which='major', labelsize=20)\n",
    "    plt.xlabel(\"Initial SEI Thickness / nm\", fontsize=24)\n",
    "    plt.ylabel(\"SEI Delta / $x 10^{-6}$ nm per 2 sec\", fontsize=24)\n",
    "    \n",
    "    plt.legend(bbox_to_anchor=(1.05, 1), fontsize=24, loc=2, borderaxespad=0.)\n",
    "\n",
    "    plt.show()"
   ]
  },
  {
   "cell_type": "code",
   "execution_count": 23,
   "metadata": {
    "scrolled": false
   },
   "outputs": [],
   "source": [
    "# Heatmap Generation\n",
    "\n",
    "# Generates the list of all unique SOC values and lists them\n",
    "SOC_values = sorted(list(set(battery_dataset[\"SOC\"])))\n",
    "\n",
    "# Iterates through all listed starting state of charge values\n",
    "for index, current_SOC_value in enumerate(SOC_values):\n",
    "\n",
    "    # Formats dataset into the expected format for SNS heatmap\n",
    "    heatmap_generation = battery_dataset[battery_dataset['SOC'] == current_SOC_value]\n",
    "    heatmap_generation_scaled = heatmap_generation.copy()\n",
    "    heatmap_generation_scaled['SEI_delta'] = 1e6*heatmap_generation[\"SEI_delta\"]\n",
    "\n",
    "\n",
    "    pwr_ds_pivot = heatmap_generation_scaled.pivot(\"Power\", \"SOH\", \"SEI_delta\")\n",
    "\n",
    "    fig = plt.figure(figsize=(20,20))\n",
    "    ax = sns.heatmap(pwr_ds_pivot,   vmin=4.2, vmax = 6.0, cmap=\"Blues\")\n",
    "\n",
    "    ax.set_title(\"SEI Growth Rate: $x10^{-6}$ nm / 2 sec \\n   Starting State of Charge: %d percent\"%current_SOC_value, fontsize=24)\n",
    "    ax.tick_params(axis='both', which='major', labelsize=20)\n",
    "    ax.set_xlabel(\"Starting SEI Thickness / nm\", fontsize=24)\n",
    "    ax.set_ylabel(\"Normalized Charging Power\", fontsize=24)\n",
    "\n",
    "    ax.set_ylim([0,10])\n",
    "\n",
    "    cax = plt.gcf().axes[-1]\n",
    "    cax.tick_params(labelsize=20)\n",
    "\n",
    "    # Export data\n",
    "\n",
    "    plt.savefig(os.path.join(\"figures\", \"output_%03d.png\"%index), dpi=300)\n",
    "    plt.close(fig)\n"
   ]
  },
  {
   "cell_type": "code",
   "execution_count": null,
   "metadata": {
    "collapsed": true
   },
   "outputs": [],
   "source": []
  }
 ],
 "metadata": {
  "kernelspec": {
   "display_name": "Python 3",
   "language": "python",
   "name": "python3"
  },
  "language_info": {
   "codemirror_mode": {
    "name": "ipython",
    "version": 3
   },
   "file_extension": ".py",
   "mimetype": "text/x-python",
   "name": "python",
   "nbconvert_exporter": "python",
   "pygments_lexer": "ipython3",
   "version": "3.7.6"
  }
 },
 "nbformat": 4,
 "nbformat_minor": 2
}
